{
 "cells": [
  {
   "cell_type": "markdown",
   "metadata": {},
   "source": [
    "### **Kbank Google Playstore App Crawler**\n",
    "- Contributor: Jihyun Jung\n",
    "- References\n",
    "    - Tistory Blog: https://heytech.tistory.com/293\n",
    "- Last Updated@2022-08-07\n",
    "\n",
    "<img src=\"https://m.jungle.co.kr/image/51157065426dbb7b55877a01\" width=\"350\" height=\"200\">"
   ]
  },
  {
   "cell_type": "markdown",
   "metadata": {},
   "source": [
    "### 초기 설정"
   ]
  },
  {
   "cell_type": "code",
   "execution_count": 1,
   "metadata": {},
   "outputs": [],
   "source": [
    "chrome_driver = '../chromedriver'"
   ]
  },
  {
   "cell_type": "code",
   "execution_count": 2,
   "metadata": {},
   "outputs": [],
   "source": [
    "url = 'https://play.google.com/store/apps/details?id=com.kbankwith.smartbank'"
   ]
  },
  {
   "cell_type": "code",
   "execution_count": 3,
   "metadata": {},
   "outputs": [],
   "source": [
    "import requests\n",
    "\n",
    "from selenium import webdriver\n",
    "from selenium.webdriver.common.keys import Keys\n",
    "from selenium.webdriver.support.ui import WebDriverWait\n",
    "from selenium.webdriver.support import expected_conditions as EC\n",
    "from selenium.webdriver.common.by import By\n",
    "from selenium.webdriver.common.keys import Keys\n",
    "\n",
    "from bs4 import BeautifulSoup\n",
    "import time\n",
    "from time import sleep\n",
    "import random\n",
    "import pandas as pd"
   ]
  },
  {
   "cell_type": "markdown",
   "metadata": {},
   "source": [
    "### 무한 스크롤 함수"
   ]
  },
  {
   "cell_type": "code",
   "execution_count": 4,
   "metadata": {},
   "outputs": [],
   "source": [
    "def scroll(modal):\n",
    "    try:\n",
    "        # 스크롤 높이 받아오기\n",
    "        last_height = driver.execute_script(\"return arguments[0].scrollHeight\", modal)\n",
    "        while True:\n",
    "            pause_time = random.uniform(0.5, 0.8)\n",
    "            driver.execute_script(\"arguments[0].scrollTo(0, arguments[0].scrollHeight);\", modal)\n",
    "            time.sleep(pause_time)\n",
    "            driver.execute_script(\"arguments[0].scrollTo(0, arguments[0].scrollHeight-50);\", modal)\n",
    "            time.sleep(pause_time)\n",
    "\n",
    "            new_height = driver.execute_script(\"return arguments[0].scrollHeight\", modal)\n",
    "            try:\n",
    "                # '더보기' 버튼 있을 경우 클릭\n",
    "                all_review_button = driver.find_element_by_xpath('/html/body/div[1]/div[4]/c-wiz/div/div[2]/div/div/main/div/div[1]/div[2]/div[2]/div/span/span').click()\n",
    "            except:\n",
    "                if new_height == last_height:\n",
    "                    print(\"스크롤 완료\")\n",
    "                    break\n",
    "                last_height = new_height\n",
    "\n",
    "    except Exception as e:\n",
    "        print(\"에러 발생: \", e)"
   ]
  },
  {
   "cell_type": "markdown",
   "metadata": {},
   "source": [
    "### 데이터 크롤링"
   ]
  },
  {
   "cell_type": "code",
   "execution_count": 5,
   "metadata": {},
   "outputs": [
    {
     "name": "stderr",
     "output_type": "stream",
     "text": [
      "C:\\Users\\82108\\AppData\\Local\\Temp\\ipykernel_2584\\3053915192.py:9: DeprecationWarning: executable_path has been deprecated, please pass in a Service object\n",
      "  driver = webdriver.Chrome(executable_path='../chromedriver.exe')\n",
      "C:\\Users\\82108\\AppData\\Local\\Temp\\ipykernel_2584\\3053915192.py:17: DeprecationWarning: find_element_by_* commands are deprecated. Please use find_element() instead\n",
      "  driver.find_element_by_xpath(all_review_button_xpath).click()\n",
      "C:\\Users\\82108\\AppData\\Local\\Temp\\ipykernel_2584\\3219276747.py:13: DeprecationWarning: find_element_by_* commands are deprecated. Please use find_element() instead\n",
      "  all_review_button = driver.find_element_by_xpath('/html/body/div[1]/div[4]/c-wiz/div/div[2]/div/div/main/div/div[1]/div[2]/div[2]/div/span/span').click()\n"
     ]
    },
    {
     "name": "stdout",
     "output_type": "stream",
     "text": [
      "스크롤 완료\n"
     ]
    }
   ],
   "source": [
    "chrome_options = webdriver.ChromeOptions()\n",
    "chrome_options.add_argument('--incognito')\n",
    "chrome_options.add_argument('--headless')\n",
    "chrome_options.add_argument('--no-sandbox')\n",
    "chrome_options.add_argument('--disable-setuid-sandbox')\n",
    "chrome_options.add_argument('--disable-dev-shm-usage')\n",
    "chrome_options.add_argument('--disable-blink-features=AutomationControlled')\n",
    "chrome_options.add_experimental_option('escludeSwitches', ['enable-logging'])\n",
    "driver = webdriver.Chrome(executable_path='../chromedriver.exe')\n",
    "\n",
    "driver.get(url)\n",
    "wait = WebDriverWait(driver, 13)\n",
    "\n",
    "all_review_button_xpath = '/html/body/c-wiz[2]/div/div/div[1]/div[2]/div/div[1]/c-wiz[4]/section/div/div/div[5]/div/div/button/span'\n",
    "button_loading_wait = wait.until(EC.element_to_be_clickable((By.XPATH, all_review_button_xpath)))\n",
    "# '리뷰 모두 보기' 버튼 클릭\n",
    "driver.find_element_by_xpath(all_review_button_xpath).click()\n",
    "\n",
    "all_review_page_xpath = '/html/body/div[4]/div[2]/div/div/div/div/div[2]'\n",
    "page_loading_wait = wait.until(EC.element_to_be_clickable((By.XPATH, all_review_page_xpath)))\n",
    "\n",
    "# 페이지 무한 스크롤 다운\n",
    "modal = WebDriverWait(driver, 2).until(EC.element_to_be_clickable((By.XPATH, \"//div[@class='fysCi']\")))\n",
    "scroll(modal)"
   ]
  },
  {
   "cell_type": "markdown",
   "metadata": {},
   "source": [
    "### HTML Parsing"
   ]
  },
  {
   "cell_type": "code",
   "execution_count": 6,
   "metadata": {},
   "outputs": [],
   "source": [
    "html_source = driver.page_source\n",
    "soup_source = BeautifulSoup(html_source, 'html.parser')"
   ]
  },
  {
   "cell_type": "markdown",
   "metadata": {},
   "source": [
    "### 크롬 드라이버 종료"
   ]
  },
  {
   "cell_type": "code",
   "execution_count": 7,
   "metadata": {},
   "outputs": [],
   "source": [
    "driver.quit()"
   ]
  },
  {
   "cell_type": "markdown",
   "metadata": {},
   "source": [
    "### HTML 데이터 저장"
   ]
  },
  {
   "cell_type": "code",
   "execution_count": 8,
   "metadata": {},
   "outputs": [],
   "source": [
    "with open(\"../dataset/data_html.html\", \"w\", encoding='utf-8') as file:\n",
    "    file.write(str(soup_source))"
   ]
  },
  {
   "cell_type": "markdown",
   "metadata": {},
   "source": [
    "### 데이터프레임 변환"
   ]
  },
  {
   "cell_type": "code",
   "execution_count": 9,
   "metadata": {},
   "outputs": [],
   "source": [
    "review_source = soup_source.find_all(class_ = 'RHo1pe')\n",
    "\n",
    "dataset = []\n",
    "review_num = 0 \n",
    "# 리뷰 1개씩 접근해 정보 추출\n",
    "for review in review_source:\n",
    "    review_num+=1\n",
    "    # 리뷰 등록일 데이터 추출\n",
    "    date_full = review.find_all(class_ = 'bp9Aid')[0].text\n",
    "    date_year = date_full[0:4] # 연도 데이터 추출\n",
    "    # 해당 단어가 등장한 인덱스 추출\n",
    "    year_index = date_full.find('년')\n",
    "    month_index = date_full.find('월')\n",
    "    day_index = date_full.find('일')\n",
    "    \n",
    "    date_month = str(int(date_full[year_index+1:month_index])) # 월(Month) 데이터 추출\n",
    "    # 월 정보가 1자리의 경우 앞에 0 붙이기(e.g., 1월 -> 01월)\n",
    "    if len(date_month) == 1:\n",
    "        date_month = '0' + date_month\n",
    "    \n",
    "    date_day = str(int(date_full[month_index+1:day_index])) # 일(Day) 데이터 추출 \n",
    "    # 일 정보가 1자리의 경우 앞에 0 붙여줌(e.g., 7일 -> 07일)\n",
    "    if len(date_day) == 1:\n",
    "        date_day = '0' + date_day\n",
    "    \n",
    "    # 리뷰 등록일 full version은 최종적으로 yyyymmdd 형태로 저장\n",
    "    date_full = date_year + date_month + date_day\n",
    "    user_name = review.find_all(class_ = 'X5PpBb')[0].text # 닉네임 데이터 추출\n",
    "    rating = review.find_all(class_ = \"iXRFPc\")[0]['aria-label'][10] # 평점 데이터 추출\n",
    "    content = review.find_all(class_ = 'h3YV2d')[0].text # 리뷰 데이터 추출\n",
    "\n",
    "    data = {\n",
    "        \"id\": review_num, \n",
    "        \"date\": date_full,\n",
    "        \"dateYear\": date_year,\n",
    "        \"dateMonth\": date_month,\n",
    "        \"dateDay\": date_day,\n",
    "        \"rating\": rating,\n",
    "        \"userName\": user_name,\n",
    "        \"content\": content\n",
    "    }\n",
    "    dataset.append(data)"
   ]
  },
  {
   "cell_type": "markdown",
   "metadata": {},
   "source": [
    "### 데이터프레임 저장"
   ]
  },
  {
   "cell_type": "code",
   "execution_count": 10,
   "metadata": {},
   "outputs": [],
   "source": [
    "df = pd.DataFrame(dataset)\n",
    "df.to_csv('../dataset/review_dataset.csv', encoding='utf-8-sig')"
   ]
  },
  {
   "cell_type": "markdown",
   "metadata": {},
   "source": [
    "### 리뷰 데이터 불러오기"
   ]
  },
  {
   "cell_type": "code",
   "execution_count": 11,
   "metadata": {},
   "outputs": [
    {
     "data": {
      "text/html": [
       "<div>\n",
       "<style scoped>\n",
       "    .dataframe tbody tr th:only-of-type {\n",
       "        vertical-align: middle;\n",
       "    }\n",
       "\n",
       "    .dataframe tbody tr th {\n",
       "        vertical-align: top;\n",
       "    }\n",
       "\n",
       "    .dataframe thead th {\n",
       "        text-align: right;\n",
       "    }\n",
       "</style>\n",
       "<table border=\"1\" class=\"dataframe\">\n",
       "  <thead>\n",
       "    <tr style=\"text-align: right;\">\n",
       "      <th></th>\n",
       "      <th>id</th>\n",
       "      <th>date</th>\n",
       "      <th>dateYear</th>\n",
       "      <th>dateMonth</th>\n",
       "      <th>dateDay</th>\n",
       "      <th>rating</th>\n",
       "      <th>userName</th>\n",
       "      <th>content</th>\n",
       "    </tr>\n",
       "  </thead>\n",
       "  <tbody>\n",
       "    <tr>\n",
       "      <th>0</th>\n",
       "      <td>1</td>\n",
       "      <td>20220601</td>\n",
       "      <td>2022</td>\n",
       "      <td>6</td>\n",
       "      <td>1</td>\n",
       "      <td>1</td>\n",
       "      <td>동동</td>\n",
       "      <td>타 기관 인증서 불러오기가 안되는데 대체 무슨 일이죠?? 범용공동인증서를 등록하려고...</td>\n",
       "    </tr>\n",
       "    <tr>\n",
       "      <th>1</th>\n",
       "      <td>2</td>\n",
       "      <td>20220626</td>\n",
       "      <td>2022</td>\n",
       "      <td>6</td>\n",
       "      <td>26</td>\n",
       "      <td>2</td>\n",
       "      <td>Younghoon Jeon</td>\n",
       "      <td>다른건 다 모르겠고 어플 켰을 때 메인 화면이 뜨기까지 시간 좀 더 단축시켜주세요....</td>\n",
       "    </tr>\n",
       "    <tr>\n",
       "      <th>2</th>\n",
       "      <td>3</td>\n",
       "      <td>20220629</td>\n",
       "      <td>2022</td>\n",
       "      <td>6</td>\n",
       "      <td>29</td>\n",
       "      <td>1</td>\n",
       "      <td>Kuee Haeng Lee</td>\n",
       "      <td>타기관인증서를 갱신하면서 인증서가져오기를 수행했는데요. QR로 가져오기는 아예 안돼...</td>\n",
       "    </tr>\n",
       "    <tr>\n",
       "      <th>3</th>\n",
       "      <td>4</td>\n",
       "      <td>20220709</td>\n",
       "      <td>2022</td>\n",
       "      <td>7</td>\n",
       "      <td>9</td>\n",
       "      <td>3</td>\n",
       "      <td>brian lryan</td>\n",
       "      <td>갤럭시쓰는데 알림진동이 안 울립니다.(에티켓모드 아님) 전에 리뷰보니까 다른분들도 ...</td>\n",
       "    </tr>\n",
       "    <tr>\n",
       "      <th>4</th>\n",
       "      <td>5</td>\n",
       "      <td>20220625</td>\n",
       "      <td>2022</td>\n",
       "      <td>6</td>\n",
       "      <td>25</td>\n",
       "      <td>5</td>\n",
       "      <td>박태준</td>\n",
       "      <td>뭣같은 앱아이콘을 바꾼건 정말 좋네요. 거기다 묘하게 앱 자체의 속도도 빨라진 느낌...</td>\n",
       "    </tr>\n",
       "    <tr>\n",
       "      <th>...</th>\n",
       "      <td>...</td>\n",
       "      <td>...</td>\n",
       "      <td>...</td>\n",
       "      <td>...</td>\n",
       "      <td>...</td>\n",
       "      <td>...</td>\n",
       "      <td>...</td>\n",
       "      <td>...</td>\n",
       "    </tr>\n",
       "    <tr>\n",
       "      <th>2035</th>\n",
       "      <td>2036</td>\n",
       "      <td>20210506</td>\n",
       "      <td>2021</td>\n",
       "      <td>5</td>\n",
       "      <td>6</td>\n",
       "      <td>1</td>\n",
       "      <td>사람이 꽃보다 아름다워</td>\n",
       "      <td>갤럭시s9+사용 고객입니다.. 케이뱅크 앱이 실행이 안되고 로고만 뜨네요.. 3일내...</td>\n",
       "    </tr>\n",
       "    <tr>\n",
       "      <th>2036</th>\n",
       "      <td>2037</td>\n",
       "      <td>20210816</td>\n",
       "      <td>2021</td>\n",
       "      <td>8</td>\n",
       "      <td>16</td>\n",
       "      <td>1</td>\n",
       "      <td>Call Me K</td>\n",
       "      <td>저는 당신들이 너무 싫습니다. 잘쓰고 있던거를 못쓰게 하고 돈도 못보내고 정말 당신...</td>\n",
       "    </tr>\n",
       "    <tr>\n",
       "      <th>2037</th>\n",
       "      <td>2038</td>\n",
       "      <td>20210223</td>\n",
       "      <td>2021</td>\n",
       "      <td>2</td>\n",
       "      <td>23</td>\n",
       "      <td>1</td>\n",
       "      <td>아주그냥</td>\n",
       "      <td>접속을 못하네 인출좀 할려고 하니 상담원은 계속 통화중... 지친다</td>\n",
       "    </tr>\n",
       "    <tr>\n",
       "      <th>2038</th>\n",
       "      <td>2039</td>\n",
       "      <td>20210413</td>\n",
       "      <td>2021</td>\n",
       "      <td>4</td>\n",
       "      <td>13</td>\n",
       "      <td>1</td>\n",
       "      <td>zin lee</td>\n",
       "      <td>인증번호자체가 안오네요 삼성갤럭시 S9 최신OS 시간은 오후 8시부터 계속~ 쭉이요...</td>\n",
       "    </tr>\n",
       "    <tr>\n",
       "      <th>2039</th>\n",
       "      <td>2040</td>\n",
       "      <td>20210403</td>\n",
       "      <td>2021</td>\n",
       "      <td>4</td>\n",
       "      <td>3</td>\n",
       "      <td>5</td>\n",
       "      <td>칼세이건</td>\n",
       "      <td>앱을설치하고 개설했는데 바탕화면에 앱이 안보여요!</td>\n",
       "    </tr>\n",
       "  </tbody>\n",
       "</table>\n",
       "<p>2040 rows × 8 columns</p>\n",
       "</div>"
      ],
      "text/plain": [
       "        id      date  dateYear  dateMonth  dateDay  rating        userName  \\\n",
       "0        1  20220601      2022          6        1       1              동동   \n",
       "1        2  20220626      2022          6       26       2  Younghoon Jeon   \n",
       "2        3  20220629      2022          6       29       1  Kuee Haeng Lee   \n",
       "3        4  20220709      2022          7        9       3     brian lryan   \n",
       "4        5  20220625      2022          6       25       5             박태준   \n",
       "...    ...       ...       ...        ...      ...     ...             ...   \n",
       "2035  2036  20210506      2021          5        6       1    사람이 꽃보다 아름다워   \n",
       "2036  2037  20210816      2021          8       16       1       Call Me K   \n",
       "2037  2038  20210223      2021          2       23       1            아주그냥   \n",
       "2038  2039  20210413      2021          4       13       1         zin lee   \n",
       "2039  2040  20210403      2021          4        3       5            칼세이건   \n",
       "\n",
       "                                                content  \n",
       "0     타 기관 인증서 불러오기가 안되는데 대체 무슨 일이죠?? 범용공동인증서를 등록하려고...  \n",
       "1     다른건 다 모르겠고 어플 켰을 때 메인 화면이 뜨기까지 시간 좀 더 단축시켜주세요....  \n",
       "2     타기관인증서를 갱신하면서 인증서가져오기를 수행했는데요. QR로 가져오기는 아예 안돼...  \n",
       "3     갤럭시쓰는데 알림진동이 안 울립니다.(에티켓모드 아님) 전에 리뷰보니까 다른분들도 ...  \n",
       "4     뭣같은 앱아이콘을 바꾼건 정말 좋네요. 거기다 묘하게 앱 자체의 속도도 빨라진 느낌...  \n",
       "...                                                 ...  \n",
       "2035  갤럭시s9+사용 고객입니다.. 케이뱅크 앱이 실행이 안되고 로고만 뜨네요.. 3일내...  \n",
       "2036  저는 당신들이 너무 싫습니다. 잘쓰고 있던거를 못쓰게 하고 돈도 못보내고 정말 당신...  \n",
       "2037              접속을 못하네 인출좀 할려고 하니 상담원은 계속 통화중... 지친다  \n",
       "2038  인증번호자체가 안오네요 삼성갤럭시 S9 최신OS 시간은 오후 8시부터 계속~ 쭉이요...  \n",
       "2039                        앱을설치하고 개설했는데 바탕화면에 앱이 안보여요!  \n",
       "\n",
       "[2040 rows x 8 columns]"
      ]
     },
     "execution_count": 11,
     "metadata": {},
     "output_type": "execute_result"
    }
   ],
   "source": [
    "df = pd.read_csv('../dataset/review_dataset.csv', encoding='utf-8-sig')\n",
    "df = df.drop(['Unnamed: 0'], axis = 1)\n",
    "df"
   ]
  }
 ],
 "metadata": {
  "kernelspec": {
   "display_name": "Python 3.10.1 64-bit",
   "language": "python",
   "name": "python3"
  },
  "language_info": {
   "codemirror_mode": {
    "name": "ipython",
    "version": 3
   },
   "file_extension": ".py",
   "mimetype": "text/x-python",
   "name": "python",
   "nbconvert_exporter": "python",
   "pygments_lexer": "ipython3",
   "version": "3.10.1"
  },
  "orig_nbformat": 4,
  "vscode": {
   "interpreter": {
    "hash": "c5c2c3c852cea3612ae75d7177c7db88d742ce4c76218675a91b833287f5ecf2"
   }
  }
 },
 "nbformat": 4,
 "nbformat_minor": 2
}
